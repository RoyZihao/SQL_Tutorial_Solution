{
 "cells": [
  {
   "cell_type": "markdown",
   "metadata": {},
   "source": [
    "## 1 Find id, name and term of the artist who played the track with id TRMMWLD128F9301BF2"
   ]
  },
  {
   "cell_type": "code",
   "execution_count": 4,
   "metadata": {},
   "outputs": [
    {
     "name": "stdout",
     "output_type": "stream",
     "text": [
      "[('ARE592P1187B99F3A7', 'Tone X', 'alternative rock'), ('ARE592P1187B99F3A7', 'Tone X', 'american'), ('ARE592P1187B99F3A7', 'Tone X', 'black gospel'), ('ARE592P1187B99F3A7', 'Tone X', 'black music'), ('ARE592P1187B99F3A7', 'Tone X', 'christian'), ('ARE592P1187B99F3A7', 'Tone X', 'contemporary christian'), ('ARE592P1187B99F3A7', 'Tone X', 'contemporary gospel'), ('ARE592P1187B99F3A7', 'Tone X', 'dance'), ('ARE592P1187B99F3A7', 'Tone X', 'electronic'), ('ARE592P1187B99F3A7', 'Tone X', 'funk'), ('ARE592P1187B99F3A7', 'Tone X', 'funk soul'), ('ARE592P1187B99F3A7', 'Tone X', 'gospel'), ('ARE592P1187B99F3A7', 'Tone X', 'gospel jams'), ('ARE592P1187B99F3A7', 'Tone X', 'gospel soul'), ('ARE592P1187B99F3A7', 'Tone X', 'hip hop'), ('ARE592P1187B99F3A7', 'Tone X', 'house'), ('ARE592P1187B99F3A7', 'Tone X', 'jazz'), ('ARE592P1187B99F3A7', 'Tone X', 'latin'), ('ARE592P1187B99F3A7', 'Tone X', 'male vocalist'), ('ARE592P1187B99F3A7', 'Tone X', 'pop'), ('ARE592P1187B99F3A7', 'Tone X', 'r&b'), ('ARE592P1187B99F3A7', 'Tone X', 'religious music'), ('ARE592P1187B99F3A7', 'Tone X', 'rock'), ('ARE592P1187B99F3A7', 'Tone X', 'salsa'), ('ARE592P1187B99F3A7', 'Tone X', 'san diego'), ('ARE592P1187B99F3A7', 'Tone X', 'smooth jazz'), ('ARE592P1187B99F3A7', 'Tone X', 'soul'), ('ARE592P1187B99F3A7', 'Tone X', 'syntax records'), ('ARE592P1187B99F3A7', 'Tone X', 'techno'), ('ARE592P1187B99F3A7', 'Tone X', 'united states'), ('ARE592P1187B99F3A7', 'Tone X', 'urban'), ('ARE592P1187B99F3A7', 'Tonex', 'alternative rock'), ('ARE592P1187B99F3A7', 'Tonex', 'american'), ('ARE592P1187B99F3A7', 'Tonex', 'black gospel'), ('ARE592P1187B99F3A7', 'Tonex', 'black music'), ('ARE592P1187B99F3A7', 'Tonex', 'christian'), ('ARE592P1187B99F3A7', 'Tonex', 'contemporary christian'), ('ARE592P1187B99F3A7', 'Tonex', 'contemporary gospel'), ('ARE592P1187B99F3A7', 'Tonex', 'dance'), ('ARE592P1187B99F3A7', 'Tonex', 'electronic'), ('ARE592P1187B99F3A7', 'Tonex', 'funk'), ('ARE592P1187B99F3A7', 'Tonex', 'funk soul'), ('ARE592P1187B99F3A7', 'Tonex', 'gospel'), ('ARE592P1187B99F3A7', 'Tonex', 'gospel jams'), ('ARE592P1187B99F3A7', 'Tonex', 'gospel soul'), ('ARE592P1187B99F3A7', 'Tonex', 'hip hop'), ('ARE592P1187B99F3A7', 'Tonex', 'house'), ('ARE592P1187B99F3A7', 'Tonex', 'jazz'), ('ARE592P1187B99F3A7', 'Tonex', 'latin'), ('ARE592P1187B99F3A7', 'Tonex', 'male vocalist'), ('ARE592P1187B99F3A7', 'Tonex', 'pop'), ('ARE592P1187B99F3A7', 'Tonex', 'r&b'), ('ARE592P1187B99F3A7', 'Tonex', 'religious music'), ('ARE592P1187B99F3A7', 'Tonex', 'rock'), ('ARE592P1187B99F3A7', 'Tonex', 'salsa'), ('ARE592P1187B99F3A7', 'Tonex', 'san diego'), ('ARE592P1187B99F3A7', 'Tonex', 'smooth jazz'), ('ARE592P1187B99F3A7', 'Tonex', 'soul'), ('ARE592P1187B99F3A7', 'Tonex', 'syntax records'), ('ARE592P1187B99F3A7', 'Tonex', 'techno'), ('ARE592P1187B99F3A7', 'Tonex', 'united states'), ('ARE592P1187B99F3A7', 'Tonex', 'urban'), ('ARE592P1187B99F3A7', 'Tonéx', 'alternative rock'), ('ARE592P1187B99F3A7', 'Tonéx', 'american'), ('ARE592P1187B99F3A7', 'Tonéx', 'black gospel'), ('ARE592P1187B99F3A7', 'Tonéx', 'black music'), ('ARE592P1187B99F3A7', 'Tonéx', 'christian'), ('ARE592P1187B99F3A7', 'Tonéx', 'contemporary christian'), ('ARE592P1187B99F3A7', 'Tonéx', 'contemporary gospel'), ('ARE592P1187B99F3A7', 'Tonéx', 'dance'), ('ARE592P1187B99F3A7', 'Tonéx', 'electronic'), ('ARE592P1187B99F3A7', 'Tonéx', 'funk'), ('ARE592P1187B99F3A7', 'Tonéx', 'funk soul'), ('ARE592P1187B99F3A7', 'Tonéx', 'gospel'), ('ARE592P1187B99F3A7', 'Tonéx', 'gospel jams'), ('ARE592P1187B99F3A7', 'Tonéx', 'gospel soul'), ('ARE592P1187B99F3A7', 'Tonéx', 'hip hop'), ('ARE592P1187B99F3A7', 'Tonéx', 'house'), ('ARE592P1187B99F3A7', 'Tonéx', 'jazz'), ('ARE592P1187B99F3A7', 'Tonéx', 'latin'), ('ARE592P1187B99F3A7', 'Tonéx', 'male vocalist'), ('ARE592P1187B99F3A7', 'Tonéx', 'pop'), ('ARE592P1187B99F3A7', 'Tonéx', 'r&b'), ('ARE592P1187B99F3A7', 'Tonéx', 'religious music'), ('ARE592P1187B99F3A7', 'Tonéx', 'rock'), ('ARE592P1187B99F3A7', 'Tonéx', 'salsa'), ('ARE592P1187B99F3A7', 'Tonéx', 'san diego'), ('ARE592P1187B99F3A7', 'Tonéx', 'smooth jazz'), ('ARE592P1187B99F3A7', 'Tonéx', 'soul'), ('ARE592P1187B99F3A7', 'Tonéx', 'syntax records'), ('ARE592P1187B99F3A7', 'Tonéx', 'techno'), ('ARE592P1187B99F3A7', 'Tonéx', 'united states'), ('ARE592P1187B99F3A7', 'Tonéx', 'urban')]\n"
     ]
    }
   ],
   "source": [
    "import sys\n",
    "import sqlite3\n",
    "with sqlite3.connect('Sample_Song_Dataset.db') as conn:\n",
    "    cursor = conn.cursor()\n",
    "    cursor.execute('''SELECT artists.artist_id, artists.artist_name, artist_term.term \n",
    "                      From artists \n",
    "                      JOIN artist_term \n",
    "                      ON artists.artist_id = artist_term.artist_id \n",
    "                      JOIN tracks \n",
    "                      ON tracks.artist_id = artists.artist_id \n",
    "                      WHERE tracks.track_id =\"TRMMWLD128F9301BF2\"''')\n",
    "    print(cursor.fetchall())"
   ]
  },
  {
   "cell_type": "markdown",
   "metadata": {},
   "source": [
    "## 2. Select all the unique tracks with the duration is strictly greater than 3020 seconds."
   ]
  },
  {
   "cell_type": "code",
   "execution_count": 9,
   "metadata": {},
   "outputs": [
    {
     "name": "stdout",
     "output_type": "stream",
     "text": [
      "[('TRBOGZY128F4269C26', 'Hauptteil', 'Endlich Schlank', 0, 3020.87791, 'ARRXCAY1242077F342'), ('TRDZTTO12903CF1A2E', 'Grounation', 'Carried Beyond', 0, 3034.90567, 'ARSSDRQ1241B9CB1A5'), ('TRGASQU128F92D762F', 'Rag: Gaud Malhar & Rag: Mian Malhar', 'Nidhi', 0, 3030.17751, 'ARG62WR1187FB461BC'), ('TRGXALK12903D15504', 'Don Carlos: Act III', 'Verdi: Don Carlos', 0, 3024.97914, 'ARFULUG1272BA849E4'), ('TRHWGWD12903CD132B', 'Germans are people too (Alive & Kickin)', 'Germans Are People too (Alive & Kickin´)', 0, 3027.17342, 'ARFIKPQ1272BCD1FD4'), ('TRJOADI12903CC00F9', 'Monolithe II', 'Monolithe II', 2005, 3024.66567, 'AR8XMK11187B9AF8C7'), ('TRLOKWE12903CF205E', 'Hud', 'Le Saint Coran (avec Doae)', 0, 3026.75546, 'ARHDNFW11F4C83BECD'), ('TRMTJMT128F93221B0', 'Galactic Odyssey', 'Galactic Odyssey', 0, 3029.08036, 'ARNHB3M1187B98B512'), ('TROVFHS128F934D39D', 'Live Acid Wandererz', 'Live Acid Wandererz', 0, 3026.57261, 'ARIAXFE11F50C50923'), ('TROZPGO128F426FD26', 'Kunverbainu Mameru - Aakhyaana', 'Kunverbainu Mameru', 0, 3022.05342, 'ARPLGTP12454A46FA1'), ('TRPIWVS128F4289D7F', 'Chapitre Un (a): Toutes Les Histoires', 'Histoire(s) du cinéma (Complete Soundtrack)', 0, 3032.76363, 'ARIV4271187B9B824F'), ('TRPJBMF128F9355E4C', 'Members Select Special Bonus Mix (Free Bonus mix with full album download)', 'Private Beach Club - By Afterlife', 0, 3030.62159, 'ARGDNIE1269FCD12AF'), ('TRPWIUP128F426B47B', 'Der Geist des Llano Estacado \\x13 Ein Spion', 'Karl May: Unter Geiern', 0, 3032.58077, 'ARJRKGN12420781485'), ('TRQCLSM128F42944D9', 'Delirium Tremens', 'Delirium Tremens', 0, 3024.61342, 'ARBNOH41187FB5B059'), ('TRQRHPV12903CB345A', 'Galactic Odyssey', 'Galactic Odyssey', 0, 3030.90893, 'ARKIGPF1187B98BD79'), ('TRSMLIB128F934C0A8', 'Discussion 2', 'Inner Voices', 0, 3033.44281, 'ARCRQDC1272BA831EB'), ('TRTBHMV128F4245478', 'Kamalapadamalar - Harikambhoji - Adi', 'Sanjay Subrahmanyan - December Season 2003', 0, 3022.28853, 'ARBTWFL122988F01AF'), ('TRTBTAV128F4246BB2', \"Openin' Doors\", 'Running 4 President 2K8 (2 Disc Set)', 0, 3030.02077, 'AREBBGV1187FB523D2'), ('TRUMEHU128F932D272', 'Raga: Kaushi Kanada (Tabla: Kumar Bose)', 'Lingering Emotions', 0, 3032.5024, 'ARI4ARP1187FB50847'), ('TRZSLOD12903CF6FB5', 'Iraqi Prisoner Abuse', 'George W. Bush - Taking America', 0, 3027.722, 'ARMDCV21187B9B13AD')]\n"
     ]
    }
   ],
   "source": [
    "cursor.execute('''SELECT DISTINCT * \n",
    "                  FROM tracks \n",
    "                  WHERE duration>\"3020\"''')\n",
    "print(cursor.fetchall())"
   ]
  },
  {
   "cell_type": "markdown",
   "metadata": {},
   "source": [
    "## 3. Find the ten shortest (by duration) 10 tracks released between 2010 and 2014 (inclusive), ordered by increasing duration."
   ]
  },
  {
   "cell_type": "code",
   "execution_count": 10,
   "metadata": {},
   "outputs": [
    {
     "name": "stdout",
     "output_type": "stream",
     "text": [
      "[('TRUJRNE12903CCE156', 'Spirit', 'Deep & Meaningless Remixes', 2010, 3.70893, 'ARIWIEL1187B9A2197'), ('TRLMWPC12903D0EB6D', '64:14', 'Audio_Data_Bank', 2010, 5.0673, 'ARYLUL51187B9947D9'), ('TRPMUAO12903CBBEA3', 'Fire With Fire', 'Hanging On By A Thread', 2010, 6.66077, 'ARZKRMD1241B9C9F21'), ('TRTKXQG12903D06EA3', 'Certain Things (Interlude)', 'I\\x19m New Here', 2010, 8.48934, 'AREPYZO1187B9B9C2D'), ('TRCERDU12903D03CF7', 'Night of the Morbid Psycho', 'Psalm of the Grand Destroyer', 2010, 10.86649, 'ARB42181187B9A4656'), ('TRGVKMD12903CEB193', 'Auto', 'Bilder Fressen Strom', 2010, 11.4673, 'ARLB90U1187B996AE5'), ('TRXWWHJ12903CAB222', \"Pablo's Heart\", 'There Is Love In You', 2010, 11.85914, 'AROKAO61187FB38105'), ('TRVJQOT12903CEB184', 'Goldene Mitte', 'Bilder Fressen Strom', 2010, 12.56444, 'ARLB90U1187B996AE5'), ('TRADDAQ12903CBBEA4', 'Invisible', 'Hanging On By A Thread', 2010, 14.13179, 'ARZKRMD1241B9C9F21'), ('TRJUJCN12903D06E9F', 'I Was Guided (Interlude)', 'I\\x19m New Here', 2010, 14.39302, 'AREPYZO1187B9B9C2D')]\n"
     ]
    }
   ],
   "source": [
    "cursor.execute('''SELECT * \n",
    "                  FROM tracks \n",
    "                  WHERE year \n",
    "                  BETWEEN \"2010\" AND \"2014\" \n",
    "                  ORDER BY duration \n",
    "                  LIMIT 10''')\n",
    "print(cursor.fetchall())"
   ]
  },
  {
   "cell_type": "markdown",
   "metadata": {},
   "source": [
    "## 4. Find the top 20 most frequently used terms, ordered by decreasing usage."
   ]
  },
  {
   "cell_type": "code",
   "execution_count": 11,
   "metadata": {},
   "outputs": [
    {
     "name": "stdout",
     "output_type": "stream",
     "text": [
      "[('rock',), ('electronic',), ('pop',), ('alternative rock',), ('hip hop',), ('united states',), ('house',), ('jazz',), ('indie',), ('alternative',), ('electro',), ('experimental',), ('indie rock',), ('pop rock',), ('punk',), ('techno',), ('folk',), ('downtempo',), ('ambient',), ('soul',)]\n"
     ]
    }
   ],
   "source": [
    "cursor.execute('''SELECT term \n",
    "                  FROM artist_term \n",
    "                  GROUP BY term \n",
    "                  ORDER BY COUNT(*) DESC \n",
    "                  LIMIT 20''')\n",
    "print(cursor.fetchall())"
   ]
  },
  {
   "cell_type": "markdown",
   "metadata": {},
   "source": [
    "## 5. Find the artist name associated with the longest track duration."
   ]
  },
  {
   "cell_type": "code",
   "execution_count": 12,
   "metadata": {},
   "outputs": [
    {
     "name": "stdout",
     "output_type": "stream",
     "text": [
      "[('Mystic Revelation of Rastafari',)]\n"
     ]
    }
   ],
   "source": [
    "#cursor.execute('SELECT artists.artist_name FROM artists JOIN tracks on tracks.artist_id = artists.artist_id ORDER BY tracks.duration DESC LIMIT 1')\n",
    "cursor.execute('''SELECT artists.artist_name \n",
    "                  FROM artists \n",
    "                  JOIN tracks \n",
    "                  ON tracks.artist_id = artists.artist_id \n",
    "                  WHERE duration=(SELECT MAX(duration) FROM tracks)''')\n",
    "print(cursor.fetchall())"
   ]
  },
  {
   "cell_type": "markdown",
   "metadata": {},
   "source": [
    "## 6. Find the mean duration of all tracks."
   ]
  },
  {
   "cell_type": "code",
   "execution_count": 13,
   "metadata": {},
   "outputs": [
    {
     "name": "stdout",
     "output_type": "stream",
     "text": [
      "[(249.71338394213936,)]\n"
     ]
    }
   ],
   "source": [
    "cursor.execute('''SELECT AVG(duration) \n",
    "                  FROM tracks''')\n",
    "print(cursor.fetchall())"
   ]
  },
  {
   "cell_type": "markdown",
   "metadata": {},
   "source": [
    "## 7. Using only one query, count the number of tracks whose artists don't have any linked terms."
   ]
  },
  {
   "cell_type": "code",
   "execution_count": 14,
   "metadata": {},
   "outputs": [
    {
     "name": "stdout",
     "output_type": "stream",
     "text": [
      "[(3710,)]\n"
     ]
    }
   ],
   "source": [
    "cursor.execute('''SELECT COUNT(*) \n",
    "                  FROM tracks \n",
    "                  LEFT JOIN artist_term \n",
    "                  ON tracks.artist_id = artist_term.artist_id \n",
    "                  WHERE artist_term.artist_id IS NULL''')\n",
    "#cursor.execute('SELECT COUNT(*) FROM tracks WHERE tracks.artist_id NOT IN (SELECT artist_id FROM artist_term)')\n",
    "print(cursor.fetchall())\n",
    "\n"
   ]
  },
  {
   "cell_type": "markdown",
   "metadata": {},
   "source": [
    "## 8. Index- Run Question 1 query in a loop for 100 times and note the minimum time taken. Now create an index on the column artist_id and compare the time. Share your findings in the report."
   ]
  },
  {
   "cell_type": "code",
   "execution_count": 15,
   "metadata": {},
   "outputs": [
    {
     "name": "stdout",
     "output_type": "stream",
     "text": [
      "148.9804871082306\n",
      "0.0026738643646240234\n"
     ]
    }
   ],
   "source": [
    "import time\n",
    "start = time.time()\n",
    "for i in range(100):\n",
    "    cursor.execute('''SELECT artists.artist_id, artists.artist_name, artist_term.term \n",
    "                      From artists \n",
    "                      JOIN artist_term \n",
    "                      ON artists.artist_id = artist_term.artist_id \n",
    "                      JOIN tracks \n",
    "                      ON tracks.artist_id = artists.artist_id \n",
    "                      WHERE tracks.track_id =\"TRMMWLD128F9301BF2\"''')\n",
    "end = time.time()\n",
    "print(end-start)\n",
    "\n",
    "cursor.execute('''CREATE INDEX artist_id_index_tracks \n",
    "                ON tracks (artist_id)''')\n",
    "cursor.execute('''CREATE INDEX artist_id_index_artists \n",
    "                  ON artists (artist_id)''')\n",
    "cursor.execute('''CREATE INDEX artist_id_index_artist_term \n",
    "                  ON artist_term (artist_id)''')\n",
    "start1 = time.time()\n",
    "for i in range(100):\n",
    "    cursor.execute('''SELECT artists.artist_id, artists.artist_name, artist_term.term \n",
    "                      From artists \n",
    "                      JOIN artist_term \n",
    "                      ON artists.artist_id = artist_term.artist_id \n",
    "                      JOIN tracks \n",
    "                      ON tracks.artist_id = artists.artist_id \n",
    "                      WHERE tracks.track_id =\"TRMMWLD128F9301BF2\"''')\n",
    "end1 = time.time()\n",
    "print(end1-start1)"
   ]
  },
  {
   "cell_type": "markdown",
   "metadata": {},
   "source": [
    "Before creating the index, the program runs for 149 seconds. After adding index, the running time is only 0.0027 seconds, which are much faster. Index helps us joining table more efficiently in terms of searching for the same value for the primary key"
   ]
  },
  {
   "cell_type": "markdown",
   "metadata": {},
   "source": [
    "## 9. Find all tracks associated with artists that have the tag eurovision winner and delete them from the database, then roll back this query using a transaction. Hint: you can select from the output of a select!"
   ]
  },
  {
   "cell_type": "code",
   "execution_count": 16,
   "metadata": {},
   "outputs": [
    {
     "name": "stdout",
     "output_type": "stream",
     "text": [
      "[]\n",
      "[('TRMBQRR128F93036AA', 'Die weißen Segel', 'Sag mir wo wohnen die Engel', 0, 193.09669, 'ARAGY2M1187B9A6712', 'ARAGY2M1187B9A6712', 'eurovision winner'), ('TRGBZAK128F4252004', 'So wie du denkst so wird es kommen', 'Sag mir wo wohnen die Engel', 0, 225.72363, 'ARAGY2M1187B9A6712', 'ARAGY2M1187B9A6712', 'eurovision winner'), ('TRHFARQ128F4252000', 'Musica', 'Sag mir wo wohnen die Engel', 0, 211.61751, 'ARAGY2M1187B9A6712', 'ARAGY2M1187B9A6712', 'eurovision winner'), ('TRHPIRY12903CED4AE', 'O Mein Papa', 'Musical Highlights_Vol.1', 1995, 186.46159, 'ARAGY2M1187B9A6712', 'ARAGY2M1187B9A6712', 'eurovision winner'), ('TRCMWIA12903CED4A9', 'Ponylied', 'Musical Highlights_Vol.1', 1995, 151.17016, 'ARAGY2M1187B9A6712', 'ARAGY2M1187B9A6712', 'eurovision winner'), ('TRCVIEW128F4260948', 'O mein Papa', 'Als Mama noch ein Teeny war', 1995, 181.05424, 'ARAGY2M1187B9A6712', 'ARAGY2M1187B9A6712', 'eurovision winner'), ('TRFRUNJ12903CFF963', 'Was kann schöner sein_ als deine Liebe', 'Wirtschaftswunder-Hits 3', 0, 123.61098, 'ARAGY2M1187B9A6712', 'ARAGY2M1187B9A6712', 'eurovision winner'), ('TRFZYRK128F9325EC3', 'Oh mein Papa', 'Gassenhauer', 2005, 183.48363, 'ARAGY2M1187B9A6712', 'ARAGY2M1187B9A6712', 'eurovision winner'), ('TRQLNAQ12903D045C1', 'Wenn die Glocken hell erklingen', 'Best of Schlager', 1992, 177.13587, 'ARAGY2M1187B9A6712', 'ARAGY2M1187B9A6712', 'eurovision winner'), ('TRQSXFT128F92E31AC', 'Sucu Sucu', 'Andrea Kiewel präsentiert: Schlagergiganten der 60er Jahre', 1992, 130.24608, 'ARAGY2M1187B9A6712', 'ARAGY2M1187B9A6712', 'eurovision winner'), ('TRZMGAI12903CE2297', 'Mykonos', 'Mykonos', 0, 198.21669, 'ARAGY2M1187B9A6712', 'ARAGY2M1187B9A6712', 'eurovision winner'), ('TRZMNRF128F426E491', 'Komm bald wieder in meine Arme', 'Komm bald wieder in meine Arme', 0, 208.79628, 'ARAGY2M1187B9A6712', 'ARAGY2M1187B9A6712', 'eurovision winner'), ('TRZWEHG128EF33F71D', 'O mein Papa', 'Unvergessliche Gassenhauer', 1995, 171.85914, 'ARAGY2M1187B9A6712', 'ARAGY2M1187B9A6712', 'eurovision winner'), ('TRZDSXD128F4252006', 'Ein sicherer Hafen', 'Sag mir wo wohnen die Engel', 0, 173.19138, 'ARAGY2M1187B9A6712', 'ARAGY2M1187B9A6712', 'eurovision winner'), ('TRIVGWV128F93036B1', 'Que sera (Was kann schöner sein)', 'Sag mir wo wohnen die Engel', 0, 183.40526, 'ARAGY2M1187B9A6712', 'ARAGY2M1187B9A6712', 'eurovision winner'), ('TRARQBN128F93036A4', 'Dein Herz muss glücklich sein', 'Sag mir wo wohnen die Engel', 0, 208.56118, 'ARAGY2M1187B9A6712', 'ARAGY2M1187B9A6712', 'eurovision winner'), ('TRAQTYP128F92F6AD7', 'Oh Mein Papa', 'Die Deutschen Hits Der 50er', 2005, 179.40853, 'ARAGY2M1187B9A6712', 'ARAGY2M1187B9A6712', 'eurovision winner'), ('TRNABJX128F93036AC', 'Eine weiße Hochzeitskutsche', 'Sag mir wo wohnen die Engel', 0, 205.68771, 'ARAGY2M1187B9A6712', 'ARAGY2M1187B9A6712', 'eurovision winner'), ('TRPZOKJ128F4251FFF', 'Gott liebt alle seine Kinder', 'Sag mir wo wohnen die Engel', 0, 232.04526, 'ARAGY2M1187B9A6712', 'ARAGY2M1187B9A6712', 'eurovision winner'), ('TRPEBMN128F426AB7B', 'O_ Mein Papa', 'DER MANN AM KLAVIER', 0, 186.14812, 'ARAGY2M1187B9A6712', 'ARAGY2M1187B9A6712', 'eurovision winner'), ('TRLFPFH128F92F4EEA', 'Unter der roten Laterne von St. Pauli', 'Die Schönsten Schlager aller Zeiten 10', 0, 197.58975, 'ARAGY2M1187B9A6712', 'ARAGY2M1187B9A6712', 'eurovision winner'), ('TRJDWLC128F9332B63', 'O mein Papa', 'Deutsche Schlager Oldies der 50er Jahre - Folge 2 (Digital Remastered)', 1995, 187.55873, 'ARAGY2M1187B9A6712', 'ARAGY2M1187B9A6712', 'eurovision winner'), ('TRJODBK128F9319826', 'Refrain', 'Paris tes chansons en or volume 3', 1999, 192.86159, 'ARAGY2M1187B9A6712', 'ARAGY2M1187B9A6712', 'eurovision winner'), ('TRSRRCG128F4227F59', 'Domino', 'Wunschkonzert der Erinnerungen Vol. 2', 1995, 152.16281, 'ARAGY2M1187B9A6712', 'ARAGY2M1187B9A6712', 'eurovision winner'), ('TRDGPPK128F9325ED4', 'Ponylied', 'Gassenhauer', 1995, 148.06159, 'ARAGY2M1187B9A6712', 'ARAGY2M1187B9A6712', 'eurovision winner'), ('TRDYJCO12903CE94F1', 'Oh mein Papa', 'Greatest Schlager Vol. 4', 2005, 171.72853, 'ARAGY2M1187B9A6712', 'ARAGY2M1187B9A6712', 'eurovision winner'), ('TROGGOX128F93036A7', 'Der Clown', 'Sag mir wo wohnen die Engel', 0, 226.01098, 'ARAGY2M1187B9A6712', 'ARAGY2M1187B9A6712', 'eurovision winner'), ('TRXZGKP128F4252002', 'Jedes Lächeln ist ein Wunder', 'Sag mir wo wohnen die Engel', 0, 218.95791, 'ARAGY2M1187B9A6712', 'ARAGY2M1187B9A6712', 'eurovision winner'), ('TRXJAYL128F92C6BC7', 'O mein Papa', 'Die goldenen 50er - Wirtschaftwunderzeit Vol. 2', 1995, 180.24444, 'ARAGY2M1187B9A6712', 'ARAGY2M1187B9A6712', 'eurovision winner'), ('TRVXLTS128F428F428', 'Molitva (Serbia)', 'Molitva - Serbia (from Eurovision Song Contest 2007)', 2007, 182.41261, 'ARD4DOA1187FB4ED96', 'ARD4DOA1187FB4ED96', 'eurovision winner'), ('TRWZALY128F9324E9E', \"Don't Stop Now\", 'Flying Blind', 0, 230.45179, 'ARJPFWX1187FB54C36', 'ARJPFWX1187FB54C36', 'eurovision winner'), ('TRGSGRB128F9324E9F', 'Flying Blind', 'Flying Blind', 0, 241.26649, 'ARJPFWX1187FB54C36', 'ARJPFWX1187FB54C36', 'eurovision winner'), ('TRHFKYU128F9324E95', \"Romeo's Twin\", 'Flying Blind', 0, 274.38975, 'ARJPFWX1187FB54C36', 'ARJPFWX1187FB54C36', 'eurovision winner'), ('TRIIYCS128F9324E9A', 'Miles Away', 'Flying Blind', 0, 381.85751, 'ARJPFWX1187FB54C36', 'ARJPFWX1187FB54C36', 'eurovision winner'), ('TRIDSVR128F9324EA0', 'Red Roses For Me', 'Flying Blind', 0, 124.02893, 'ARJPFWX1187FB54C36', 'ARJPFWX1187FB54C36', 'eurovision winner'), ('TRAHXJG128C71969B6', 'Do Right Woman_ Do Right Man', 'The Commitments', 0, 196.77995, 'ARJPFWX1187FB54C36', 'ARJPFWX1187FB54C36', 'eurovision winner'), ('TRNXJZC128F9324E94', \"When There's Time (For Love)\", 'Flying Blind', 0, 247.66649, 'ARJPFWX1187FB54C36', 'ARJPFWX1187FB54C36', 'eurovision winner'), ('TRTOSQZ128F9324E99', \"Let's Make Trouble\", 'Flying Blind', 0, 277.02812, 'ARJPFWX1187FB54C36', 'ARJPFWX1187FB54C36', 'eurovision winner'), ('TRJZAMX128F9324E9B', \"I Can't Make You Love Me\", 'Flying Blind', 0, 257.38404, 'ARJPFWX1187FB54C36', 'ARJPFWX1187FB54C36', 'eurovision winner'), ('TRJJRQK12903CB6AC0', 'In Your Eyes', 'In Your Eyes', 1993, 189.12608, 'ARJPFWX1187FB54C36', 'ARJPFWX1187FB54C36', 'eurovision winner'), ('TRDQCCB128F42335BE', 'Destination Anywhere', 'The Commitments', 0, 190.04036, 'ARJPFWX1187FB54C36', 'ARJPFWX1187FB54C36', 'eurovision winner'), ('TRDDQIW128C71969B2', 'Destination Anywhere', 'The Commitments', 0, 189.93587, 'ARJPFWX1187FB54C36', 'ARJPFWX1187FB54C36', 'eurovision winner'), ('TRXOOIV128F9324E9C', 'Whatever It Takes', 'Flying Blind', 0, 331.07546, 'ARJPFWX1187FB54C36', 'ARJPFWX1187FB54C36', 'eurovision winner'), ('TRKDULN128F9324E98', 'White City Of Light', 'Flying Blind', 0, 406.30812, 'ARJPFWX1187FB54C36', 'ARJPFWX1187FB54C36', 'eurovision winner'), ('TRWIOSW128F425E07E', 'Believe (Russian Version)', 'Believe', 0, 196.77995, 'ARKDEVD11F4C84821B', 'ARKDEVD11F4C84821B', 'eurovision winner'), ('TRTEXXI128F424F9BC', 'Never Let You Go', 'Never Let You Go (Eurovision Song Contest 2006)', 0, 180.00934, 'ARKDEVD11F4C84821B', 'ARKDEVD11F4C84821B', 'eurovision winner'), ('TRLHVIB128F425E07B', 'Believe (English Version Radio Edit)', 'Believe', 0, 182.96118, 'ARKDEVD11F4C84821B', 'ARKDEVD11F4C84821B', 'eurovision winner'), ('TRAFJVI128F428FA50', 'Acordeón', 'Serie 3x4 (Karina_ Massiel_ Jeanette)', 0, 192.20853, 'ARL4M621187FB3FF06', 'ARL4M621187FB3FF06', 'eurovision winner'), ('TRUPFFR128F428FA4D', 'Mas Fuerte', 'Serie 3x4 (Karina_ Massiel_ Jeanette)', 0, 204.7473, 'ARL4M621187FB3FF06', 'ARL4M621187FB3FF06', 'eurovision winner'), ('TRVKKBF128F428FA53', 'Déjame', 'Serie 3x4 (Karina_ Massiel_ Jeanette)', 0, 171.31057, 'ARL4M621187FB3FF06', 'ARL4M621187FB3FF06', 'eurovision winner'), ('TRYBVEK128F428FA4A', 'Brindaremos Por El', 'Serie 3x4 (Karina_ Massiel_ Jeanette)', 0, 213.10649, 'ARL4M621187FB3FF06', 'ARL4M621187FB3FF06', 'eurovision winner'), ('TRMIRQV128F423CFC0', 'O Emmanuel - Chant', 'O Holy Night', 0, 50.70322, 'ARRRKT91187B99BF11', 'ARRRKT91187B99BF11', 'eurovision winner'), ('TRWZNJD128F423CFC5', 'Coventry Carol', 'O Holy Night', 0, 184.37179, 'ARRRKT91187B99BF11', 'ARRRKT91187B99BF11', 'eurovision winner'), ('TRGAHSN128F423CFC8', 'Carol 1942', 'O Holy Night', 0, 119.90159, 'ARRRKT91187B99BF11', 'ARRRKT91187B99BF11', 'eurovision winner'), ('TRCCOMV128F423CFBE', 'In Paradisum', 'O Holy Night', 0, 242.31138, 'ARRRKT91187B99BF11', 'ARRRKT91187B99BF11', 'eurovision winner'), ('TRCZCKK128F423CFC4', 'The Season Has Come', 'O Holy Night', 0, 212.63628, 'ARRRKT91187B99BF11', 'ARRRKT91187B99BF11', 'eurovision winner'), ('TRREWFM128F423CFBF', 'Silent Night', 'O Holy Night', 0, 198.81751, 'ARRRKT91187B99BF11', 'ARRRKT91187B99BF11', 'eurovision winner'), ('TRFHMFE128F423CFC7', 'O Little Town Of Bethlehem', 'O Holy Night', 0, 226.92526, 'ARRRKT91187B99BF11', 'ARRRKT91187B99BF11', 'eurovision winner'), ('TRIBEDE128F423CFBC', 'Winter Apples', 'O Holy Night', 0, 225.17506, 'ARRRKT91187B99BF11', 'ARRRKT91187B99BF11', 'eurovision winner'), ('TRIVOTY128F423CFC1', 'O Come_ O Come Emmanuel', 'O Holy Night', 0, 233.87383, 'ARRRKT91187B99BF11', 'ARRRKT91187B99BF11', 'eurovision winner'), ('TRANKPR128F423CFC6', 'Hodie Christus Natus Est - Chant', 'O Holy Night', 0, 91.61098, 'ARRRKT91187B99BF11', 'ARRRKT91187B99BF11', 'eurovision winner'), ('TRDGWAO128F423CFBD', 'O Holy Night', 'O Holy Night', 0, 262.13832, 'ARRRKT91187B99BF11', 'ARRRKT91187B99BF11', 'eurovision winner'), ('TRDFACF128F4241D91', 'The Voice', \"Ireland's Finest\", 1996, 215.45751, 'ARRRKT91187B99BF11', 'ARRRKT91187B99BF11', 'eurovision winner'), ('TRYEFHQ128F423CFC2', 'In The Bleak Midwinter', 'O Holy Night', 0, 194.14159, 'ARRRKT91187B99BF11', 'ARRRKT91187B99BF11', 'eurovision winner'), ('TRMJFHC128F427DF55', 'Angelitos', 'Ángeles S.A.', 0, 186.17424, 'ARUF18H1187FB38A6A', 'ARUF18H1187FB38A6A', 'eurovision winner'), ('TRWYGIK128F427DF4E', 'Angelitos Buenos', 'Ángeles S.A.', 0, 169.56036, 'ARUF18H1187FB38A6A', 'ARUF18H1187FB38A6A', 'eurovision winner'), ('TRIGMSG128F427DF52', 'Entre Montañas', 'Ángeles S.A.', 0, 216.16281, 'ARUF18H1187FB38A6A', 'ARUF18H1187FB38A6A', 'eurovision winner'), ('TRAAXEB128F427DF57', 'El Mundo Al Revés', 'Ángeles S.A.', 0, 207.0722, 'ARUF18H1187FB38A6A', 'ARUF18H1187FB38A6A', 'eurovision winner'), ('TRLFMAO128F427DF51', 'Cuando No Estás', 'Ángeles S.A.', 0, 297.97832, 'ARUF18H1187FB38A6A', 'ARUF18H1187FB38A6A', 'eurovision winner'), ('TRLZBOK128F427DF05', 'Cuando Tú Vas', 'Vale Music 10 Años / A Nuestra Manera', 0, 198.21669, 'ARUF18H1187FB38A6A', 'ARUF18H1187FB38A6A', 'eurovision winner'), ('TRLOJNC128F427DF4F', 'En Este Instante', 'Ángeles S.A.', 0, 197.58975, 'ARUF18H1187FB38A6A', 'ARUF18H1187FB38A6A', 'eurovision winner'), ('TRJBZBT128F427DF58', 'Angelitos Buenos', 'Ángeles S.A.', 0, 169.56036, 'ARUF18H1187FB38A6A', 'ARUF18H1187FB38A6A', 'eurovision winner'), ('TRSJDDK128F427DF50', 'El Mundo Al Revés', 'Ángeles S.A.', 0, 207.0722, 'ARUF18H1187FB38A6A', 'ARUF18H1187FB38A6A', 'eurovision winner'), ('TRVXZEI128F427DF4D', 'Mis Ojos Caramelo', 'Ángeles S.A.', 0, 191.68608, 'ARUF18H1187FB38A6A', 'ARUF18H1187FB38A6A', 'eurovision winner'), ('TRDUFNQ128F427DF53', 'Baila A Mi Vera', 'Ángeles S.A.', 0, 231.94077, 'ARUF18H1187FB38A6A', 'ARUF18H1187FB38A6A', 'eurovision winner'), ('TROSMKB128F427DF56', 'Cuando No Estás', 'Ángeles S.A.', 0, 297.97832, 'ARUF18H1187FB38A6A', 'ARUF18H1187FB38A6A', 'eurovision winner'), ('TRKZIGH128F427DF54', 'Dime Por Qué', 'Ángeles S.A.', 0, 221.17832, 'ARUF18H1187FB38A6A', 'ARUF18H1187FB38A6A', 'eurovision winner'), ('TRZKZTV128F428CD62', 'Vem följer med vem', 'Charlotte med vänner - Take Me To Your Heaven', 0, 181.21098, 'ARUYGNM1187FB45A34', 'ARUYGNM1187FB45A34', 'eurovision winner'), ('TRIBOTU128F428CD5E', 'Varför blev det så', 'Charlotte med vänner - Take Me To Your Heaven', 0, 195.94404, 'ARUYGNM1187FB45A34', 'ARUYGNM1187FB45A34', 'eurovision winner'), ('TRTLRAH128F428CD69', 'Ha det nu så bra', 'Charlotte med vänner - Take Me To Your Heaven', 0, 233.87383, 'ARUYGNM1187FB45A34', 'ARUYGNM1187FB45A34', 'eurovision winner'), ('TRJJMFM128F428CD63', 'Min morgon efter regn', 'Charlotte med vänner - Take Me To Your Heaven', 0, 217.33832, 'ARUYGNM1187FB45A34', 'ARUYGNM1187FB45A34', 'eurovision winner'), ('TRWXZOR12903CEE3C3', 'New Beginning', 'The Best Of Bucks Fizz', 1992, 240.74404, 'ARVVQRT11F4C84858A', 'ARVVQRT11F4C84858A', 'eurovision winner'), ('TRNMFGV12903CB30F1', 'I Hear Talk', 'Land of Make Believe', 1994, 269.84444, 'ARVVQRT11F4C84858A', 'ARVVQRT11F4C84858A', 'eurovision winner'), ('TRPWCVH12903CEE3AF', 'Run For Your Life', 'The Best Of Bucks Fizz', 1983, 246.59546, 'ARVVQRT11F4C84858A', 'ARVVQRT11F4C84858A', 'eurovision winner'), ('TRDKNFS12903CEE3A4', 'Piece Of The Action', 'The Best Of Bucks Fizz', 1981, 223.37261, 'ARVVQRT11F4C84858A', 'ARVVQRT11F4C84858A', 'eurovision winner'), ('TROLJTR12903CB30EF', '(Gimme One More) Chance', 'Land of Make Believe', 0, 202.73587, 'ARVVQRT11F4C84858A', 'ARVVQRT11F4C84858A', 'eurovision winner'), ('TRKFQUL12903CB3113', 'Piece of the Action', 'Land of Make Believe', 1981, 222.9024, 'ARVVQRT11F4C84858A', 'ARVVQRT11F4C84858A', 'eurovision winner'), ('TRMRNSG12903CBC47C', \"Va Dire À L'amour\", 'Disques Pathé', 0, 148.6624, 'ARW34DN1187B98A8CD', 'ARW34DN1187B98A8CD', 'eurovision winner'), ('TRMTKNC128F426A7A7', 'Les Pas Reunis', 'Nous Les Amoureux', 0, 194.06322, 'ARW34DN1187B98A8CD', 'ARW34DN1187B98A8CD', 'eurovision winner'), ('TRMEYHB12903CB622B', \"J'en Deduis Que Je T'aime\", 'Le Poinçonneur Des Lilas', 0, 156.36853, 'ARW34DN1187B98A8CD', 'ARW34DN1187B98A8CD', 'eurovision winner'), ('TRMJNXC12903CB6223', 'La Marche Nuptiale', 'Le Poinçonneur Des Lilas', 0, 191.73832, 'ARW34DN1187B98A8CD', 'ARW34DN1187B98A8CD', 'eurovision winner'), ('TRWHPQZ12903CB6222', 'Croquemitoufle', 'Le Poinçonneur Des Lilas', 0, 172.66893, 'ARW34DN1187B98A8CD', 'ARW34DN1187B98A8CD', 'eurovision winner'), ('TRGJSCU12903CB621E', 'Un Jour Vous Comprendrez', 'Le Poinçonneur Des Lilas', 0, 188.682, 'ARW34DN1187B98A8CD', 'ARW34DN1187B98A8CD', 'eurovision winner'), ('TRGJXNI128F9318C04', 'Croquemitoufle', 'France The Greatest Songs_ Vol. 1', 0, 173.92281, 'ARW34DN1187B98A8CD', 'ARW34DN1187B98A8CD', 'eurovision winner'), ('TRHLBTT12903CB6229', 'La Nuit', 'Le Poinçonneur Des Lilas', 0, 167.54893, 'ARW34DN1187B98A8CD', 'ARW34DN1187B98A8CD', 'eurovision winner'), ('TRCCGBX12903CB6237', 'Fleur Du Dimanche', 'Le Poinçonneur Des Lilas', 0, 168.61995, 'ARW34DN1187B98A8CD', 'ARW34DN1187B98A8CD', 'eurovision winner'), ('TRCEHJW12903CBC48C', 'Le Temps Des Cerfs-Volants', 'Disques Pathé', 0, 153.49506, 'ARW34DN1187B98A8CD', 'ARW34DN1187B98A8CD', 'eurovision winner'), ('TRCEJRB128F426A7AB', \"C'était Moi\", 'Nous Les Amoureux', 0, 143.38567, 'ARW34DN1187B98A8CD', 'ARW34DN1187B98A8CD', 'eurovision winner'), ('TRCJSSM12903CBC484', 'Chanson Pour Terminer', 'Disques Pathé', 0, 154.5922, 'ARW34DN1187B98A8CD', 'ARW34DN1187B98A8CD', 'eurovision winner'), ('TRCVJKY12903CBC47A', 'Quand Je Me Souviens', 'Disques Pathé', 0, 140.12036, 'ARW34DN1187B98A8CD', 'ARW34DN1187B98A8CD', 'eurovision winner'), ('TRRHHHV12903CB621A', 'Devinez', 'Le Poinçonneur Des Lilas', 0, 210.1024, 'ARW34DN1187B98A8CD', 'ARW34DN1187B98A8CD', 'eurovision winner'), ('TRRCHAU128F426A7B1', \"L'amour Quotidien\", 'Nous Les Amoureux', 0, 127.9473, 'ARW34DN1187B98A8CD', 'ARW34DN1187B98A8CD', 'eurovision winner'), ('TRRUNAU12903CB621C', 'Don Quichotte', 'Le Poinçonneur Des Lilas', 0, 203.41506, 'ARW34DN1187B98A8CD', 'ARW34DN1187B98A8CD', 'eurovision winner'), ('TRRJEZM12903CBC482', 'Dix Peupliers', 'Disques Pathé', 0, 146.28526, 'ARW34DN1187B98A8CD', 'ARW34DN1187B98A8CD', 'eurovision winner'), ('TRBNIUU12903CB6228', 'Fredo La Nature', 'Le Poinçonneur Des Lilas', 0, 163.36934, 'ARW34DN1187B98A8CD', 'ARW34DN1187B98A8CD', 'eurovision winner'), ('TRFOOMI128F426A7A2', 'Ma Muse', 'Nous Les Amoureux', 0, 231.33995, 'ARW34DN1187B98A8CD', 'ARW34DN1187B98A8CD', 'eurovision winner'), ('TRZAAAG12903CB6224', \"La Recette De L'amour Fou\", 'Le Poinçonneur Des Lilas', 1996, 117.96853, 'ARW34DN1187B98A8CD', 'ARW34DN1187B98A8CD', 'eurovision winner'), ('TRZNLXL12903CB6220', 'Aux Oiseaux De Paris', 'Le Poinçonneur Des Lilas', 0, 170.21342, 'ARW34DN1187B98A8CD', 'ARW34DN1187B98A8CD', 'eurovision winner'), ('TRIWMQW12903CB6233', \"Le Gars De N'importe Où\", 'Le Poinçonneur Des Lilas', 0, 174.75873, 'ARW34DN1187B98A8CD', 'ARW34DN1187B98A8CD', 'eurovision winner'), ('TRIQRBY128F426A7B6', 'Ma Romance', 'Nous Les Amoureux', 0, 145.91955, 'ARW34DN1187B98A8CD', 'ARW34DN1187B98A8CD', 'eurovision winner'), ('TRIVAVA12903CB622C', 'Marie-Marie', 'Le Poinçonneur Des Lilas', 0, 166.39955, 'ARW34DN1187B98A8CD', 'ARW34DN1187B98A8CD', 'eurovision winner'), ('TRARGRS128F92F8EA1', 'Gefangen', 'Mega 50 - Die 60er Jahre', 0, 160.1824, 'ARW34DN1187B98A8CD', 'ARW34DN1187B98A8CD', 'eurovision winner'), ('TRNMRYT12903CBC490', \"C'était Moi\", 'Disques Pathé', 0, 160.60036, 'ARW34DN1187B98A8CD', 'ARW34DN1187B98A8CD', 'eurovision winner'), ('TRNVHUD128F426A7B8', 'Le Bateau Blanc', 'Nous Les Amoureux', 0, 143.28118, 'ARW34DN1187B98A8CD', 'ARW34DN1187B98A8CD', 'eurovision winner'), ('TRPHPTI12903CBC472', \"C'est Loin\", 'Disques Pathé', 0, 130.45506, 'ARW34DN1187B98A8CD', 'ARW34DN1187B98A8CD', 'eurovision winner'), ('TRPZGGW12903CBC487', 'Le Train Du Pacifique', 'Disques Pathé', 0, 163.18649, 'ARW34DN1187B98A8CD', 'ARW34DN1187B98A8CD', 'eurovision winner'), ('TRPEMKE12903CB6230', 'Le Pays À Venir', 'Le Poinçonneur Des Lilas', 0, 101.09342, 'ARW34DN1187B98A8CD', 'ARW34DN1187B98A8CD', 'eurovision winner'), ('TRTRTNK12903CBC47F', 'Tes Yeux De Chat Pour Voir La Nuit', 'Disques Pathé', 0, 111.41179, 'ARW34DN1187B98A8CD', 'ARW34DN1187B98A8CD', 'eurovision winner'), ('TRUSLSK12903CB6225', 'Douze Belles Dans La Peau', 'Le Poinçonneur Des Lilas', 1996, 100.77995, 'ARW34DN1187B98A8CD', 'ARW34DN1187B98A8CD', 'eurovision winner'), ('TRUKZBX12903CBC478', \"J'ai Compris Trop Tard (Traditionnel)\", 'Disques Pathé', 0, 159.00689, 'ARW34DN1187B98A8CD', 'ARW34DN1187B98A8CD', 'eurovision winner'), ('TREHVIH12903CBC48E', 'La Vie Mondaine (Lady Is A Tramp)', 'Disques Pathé', 0, 125.67465, 'ARW34DN1187B98A8CD', 'ARW34DN1187B98A8CD', 'eurovision winner'), ('TRELXEK12903CB6236', \"L'éloge Du Celibat\", 'Le Poinçonneur Des Lilas', 0, 146.88608, 'ARW34DN1187B98A8CD', 'ARW34DN1187B98A8CD', 'eurovision winner'), ('TREXPYV12903CBC46E', 'Le Plat Pays', 'Disques Pathé', 0, 181.52444, 'ARW34DN1187B98A8CD', 'ARW34DN1187B98A8CD', 'eurovision winner'), ('TRJCBQQ128F426A7A3', 'Tête De Bois', 'Nous Les Amoureux', 0, 180.92363, 'ARW34DN1187B98A8CD', 'ARW34DN1187B98A8CD', 'eurovision winner'), ('TRJBJMP12903CB6238', 'Un An Déjà', 'Le Poinçonneur Des Lilas', 0, 122.64444, 'ARW34DN1187B98A8CD', 'ARW34DN1187B98A8CD', 'eurovision winner'), ('TRJTACD12903CB622D', \"Ah Si J'avais Des Sous\", 'Le Poinçonneur Des Lilas', 0, 96.49587, 'ARW34DN1187B98A8CD', 'ARW34DN1187B98A8CD', 'eurovision winner'), ('TRSJLON12903CB6239', \"La Rose Du Premier De L'an\", 'Le Poinçonneur Des Lilas', 0, 158.04036, 'ARW34DN1187B98A8CD', 'ARW34DN1187B98A8CD', 'eurovision winner'), ('TRSODTD12903CB621D', \"Pour Qui Veille L'étoile\", 'Le Poinçonneur Des Lilas', 0, 115.87873, 'ARW34DN1187B98A8CD', 'ARW34DN1187B98A8CD', 'eurovision winner'), ('TRVINKB12903CBC47B', \"C'est La Fin De L'été\", 'Disques Pathé', 0, 140.32934, 'ARW34DN1187B98A8CD', 'ARW34DN1187B98A8CD', 'eurovision winner'), ('TRVYCTJ12903CBC48F', 'On Voit De Tout Dans Les Gondoles', 'Disques Pathé', 0, 231.02649, 'ARW34DN1187B98A8CD', 'ARW34DN1187B98A8CD', 'eurovision winner'), ('TRDPVCI12903CBC476', 'Adieu La Fête Adieu La Nuit', 'Disques Pathé', 0, 187.42812, 'ARW34DN1187B98A8CD', 'ARW34DN1187B98A8CD', 'eurovision winner'), ('TRDSUFI128F426A7A5', 'Gosse De Paris', 'Nous Les Amoureux', 0, 115.09506, 'ARW34DN1187B98A8CD', 'ARW34DN1187B98A8CD', 'eurovision winner'), ('TRXRVZM128F426A7B3', 'Nous Les Amoureux', 'Nous Les Amoureux', 1996, 187.16689, 'ARW34DN1187B98A8CD', 'ARW34DN1187B98A8CD', 'eurovision winner'), ('TRXQZRI12903CB623F', 'Etre Aimé De Toi', 'Le Poinçonneur Des Lilas', 0, 193.04444, 'ARW34DN1187B98A8CD', 'ARW34DN1187B98A8CD', 'eurovision winner'), ('TRXIFDG12903CBC46F', 'La Neige Sur Paris', 'Disques Pathé', 0, 133.85098, 'ARW34DN1187B98A8CD', 'ARW34DN1187B98A8CD', 'eurovision winner'), ('TRYQDXA12903CBC46D', \"L'amour C'est Comme Un Jour\", 'Disques Pathé', 0, 155.61098, 'ARW34DN1187B98A8CD', 'ARW34DN1187B98A8CD', 'eurovision winner'), ('TRYTDUM128F426A7A9', \"L'absent\", 'Nous Les Amoureux', 0, 203.44118, 'ARW34DN1187B98A8CD', 'ARW34DN1187B98A8CD', 'eurovision winner'), ('TRMBLZI12903CC9248', \"C'est déjà ça\", 'Bobino 2001', 0, 220.96934, 'ARZK74B1187FB45EB3', 'ARZK74B1187FB45EB3', 'eurovision winner'), ('TRMFZHV12903CCC69D', 'Caravan', 'In Love', 0, 223.08526, 'ARZK74B1187FB45EB3', 'ARZK74B1187FB45EB3', 'eurovision winner'), ('TRWLIXV12903CF1185', \"Je souhaite (I'm wishing)\", 'Un Jour Mon Prince Viendra - Chansons des Films de Walt Disney et Jacques Demy', 0, 143.67302, 'ARZK74B1187FB45EB3', 'ARZK74B1187FB45EB3', 'eurovision winner'), ('TRWDYNP12903CF1147', 'La source', \"C'est Beau La Vie\", 2004, 186.04363, 'ARZK74B1187FB45EB3', 'ARZK74B1187FB45EB3', 'eurovision winner'), ('TRCIVWW12903CCC6B0', 'Moon river', 'In Love', 0, 195.13424, 'ARZK74B1187FB45EB3', 'ARZK74B1187FB45EB3', 'eurovision winner'), ('TRRBBGK12903CCC6AA', 'The nearness of you', 'In Love', 0, 266.762, 'ARZK74B1187FB45EB3', 'ARZK74B1187FB45EB3', 'eurovision winner'), ('TRBWLQB12903CF1F02', \"L'affiche rouge\", 'Aragon', 0, 219.84608, 'ARZK74B1187FB45EB3', 'ARZK74B1187FB45EB3', 'eurovision winner'), ('TRBPMNO12903CF1EF6', 'Aimer à perdre la raison', 'Aragon', 2004, 135.13098, 'ARZK74B1187FB45EB3', 'ARZK74B1187FB45EB3', 'eurovision winner'), ('TRBSQVE12903CC9272', \"L'hôtel des Africains\", 'Bobino 2001', 0, 408.11057, 'ARZK74B1187FB45EB3', 'ARZK74B1187FB45EB3', 'eurovision winner'), ('TRBDMDD128F93042FB', 'Rosa', 'Isabelle Aubret Chante Brel', 0, 174.23628, 'ARZK74B1187FB45EB3', 'ARZK74B1187FB45EB3', 'eurovision winner'), ('TRBYQFU12903CF0603', 'La chanson de Prévert', 'Coups De Coeur', 2006, 166.81751, 'ARZK74B1187FB45EB3', 'ARZK74B1187FB45EB3', 'eurovision winner'), ('TRFBNOD128F9304303', 'Caporal casse pompom', 'Isabelle Aubret Chante Brel', 0, 145.55383, 'ARZK74B1187FB45EB3', 'ARZK74B1187FB45EB3', 'eurovision winner'), ('TRFIUYM12903CCC23A', 'Gosse de Paris', 'Parisabelle', 0, 141.63546, 'ARZK74B1187FB45EB3', 'ARZK74B1187FB45EB3', 'eurovision winner'), ('TRFYZEG12903CF0600', 'Les amants de Vérone', 'Coups De Coeur', 0, 215.19628, 'ARZK74B1187FB45EB3', 'ARZK74B1187FB45EB3', 'eurovision winner'), ('TRZGJDJ12903CF115D', 'Hourra !', 'Chante Ferrat - Hourra !', 0, 139.2322, 'ARZK74B1187FB45EB3', 'ARZK74B1187FB45EB3', 'eurovision winner'), ('TRINTZZ12903CF116B', 'Camarade', 'Chante Ferrat - Hourra !', 0, 147.22567, 'ARZK74B1187FB45EB3', 'ARZK74B1187FB45EB3', 'eurovision winner'), ('TRIOAPO12903CF1F05', 'Que serais-je sans toi', 'Aragon', 2004, 184.73751, 'ARZK74B1187FB45EB3', 'ARZK74B1187FB45EB3', 'eurovision winner'), ('TRAGCDM12903CC920D', 'Excusez-moi', 'Bobino 2001', 0, 175.5424, 'ARZK74B1187FB45EB3', 'ARZK74B1187FB45EB3', 'eurovision winner'), ('TRABBIN12903CC9224', 'Les singes', 'Bobino 2001', 0, 184.2673, 'ARZK74B1187FB45EB3', 'ARZK74B1187FB45EB3', 'eurovision winner'), ('TRNAIFV12903CF0620', \"C'est le bonheur\", \"C'est Le Bonheur !\", 0, 211.30404, 'ARZK74B1187FB45EB3', 'ARZK74B1187FB45EB3', 'eurovision winner'), ('TRNDGHL12903CF1108', 'Eau', \"Allez Allez La Vie (en public à l'Olympia)\", 0, 238.52363, 'ARZK74B1187FB45EB3', 'ARZK74B1187FB45EB3', 'eurovision winner'), ('TRNDDQR12903CCC246', \"J'aime Paris au mois de mai\", 'Parisabelle', 2004, 231.65342, 'ARZK74B1187FB45EB3', 'ARZK74B1187FB45EB3', 'eurovision winner'), ('TRNORNW12903CF117A', \"Ce qu'on est bien mon amour\", 'Chante Ferrat - Hourra !', 0, 157.88363, 'ARZK74B1187FB45EB3', 'ARZK74B1187FB45EB3', 'eurovision winner'), ('TRPMZXP12903CF0610', 'Lola de Madrid', \"C'est Le Bonheur !\", 0, 228.0224, 'ARZK74B1187FB45EB3', 'ARZK74B1187FB45EB3', 'eurovision winner'), ('TRPPTJC12903CC927A', 'Le paradis des musiciens', 'Bobino 2001', 0, 223.4771, 'ARZK74B1187FB45EB3', 'ARZK74B1187FB45EB3', 'eurovision winner'), ('TRPJZXP12903CCC24C', 'A Paris', 'Parisabelle', 0, 187.97669, 'ARZK74B1187FB45EB3', 'ARZK74B1187FB45EB3', 'eurovision winner'), ('TRTYGDH12903CF1116', 'Un jour un jour', \"Allez Allez La Vie (en public à l'Olympia)\", 0, 267.59791, 'ARZK74B1187FB45EB3', 'ARZK74B1187FB45EB3', 'eurovision winner'), ('TRUUGIY12903CCC245', 'La Seine', 'Parisabelle', 0, 208.14322, 'ARZK74B1187FB45EB3', 'ARZK74B1187FB45EB3', 'eurovision winner'), ('TRUUHPR12903CC9254', \"Je n'ai pas peur du temps qui passe\", 'Bobino 2001', 0, 165.98159, 'ARZK74B1187FB45EB3', 'ARZK74B1187FB45EB3', 'eurovision winner'), ('TRLRAVQ128F93042FC', 'Les paumés du petit matin', 'Isabelle Aubret Chante Brel', 0, 235.54567, 'ARZK74B1187FB45EB3', 'ARZK74B1187FB45EB3', 'eurovision winner'), ('TRLINAM128F9304308', 'La Fanette', 'Isabelle Aubret Chante Brel', 0, 313.46893, 'ARZK74B1187FB45EB3', 'ARZK74B1187FB45EB3', 'eurovision winner'), ('TREAFPC12903CCC248', 'Moulin Rouge', 'Parisabelle', 2004, 175.25506, 'ARZK74B1187FB45EB3', 'ARZK74B1187FB45EB3', 'eurovision winner'), ('TRENBRN12903CC926B', 'Tout le monde y pense', 'Bobino 2001', 1990, 277.99465, 'ARZK74B1187FB45EB3', 'ARZK74B1187FB45EB3', 'eurovision winner'), ('TREUWPN12903CF0615', 'A ma mère enfouie', \"C'est Le Bonheur !\", 0, 266.65751, 'ARZK74B1187FB45EB3', 'ARZK74B1187FB45EB3', 'eurovision winner'), ('TRJQILH12903CF111D', \"Des Cornouailles à l'Oural\", \"Allez Allez La Vie (en public à l'Olympia)\", 0, 214.36036, 'ARZK74B1187FB45EB3', 'ARZK74B1187FB45EB3', 'eurovision winner'), ('TRSMVXO12903CC921C', 'Le plat pays', 'Bobino 2001', 0, 217.05098, 'ARZK74B1187FB45EB3', 'ARZK74B1187FB45EB3', 'eurovision winner'), ('TRSCTOX12903CCC23B', 'Ce jour-là à Paris', 'Parisabelle', 0, 240.09098, 'ARZK74B1187FB45EB3', 'ARZK74B1187FB45EB3', 'eurovision winner'), ('TRSTQFO12903CF11A3', \"L'hôtel des Africains\", 'Le Paradis Des Musiciens', 0, 401.78893, 'ARZK74B1187FB45EB3', 'ARZK74B1187FB45EB3', 'eurovision winner'), ('TRSUBAH12903CC923C', 'Boulevard Aragon', 'Bobino 2001', 0, 259.42159, 'ARZK74B1187FB45EB3', 'ARZK74B1187FB45EB3', 'eurovision winner'), ('TRVFXGA12903CDBBAD', 'Aimer à perdre la raison', 'Age tendre& La tournée des idoles_ Vol. 5', 2004, 165.79873, 'ARZK74B1187FB45EB3', 'ARZK74B1187FB45EB3', 'eurovision winner'), ('TRDCVVW12903CF060A', 'Province', \"C'est Le Bonheur !\", 0, 278.54322, 'ARZK74B1187FB45EB3', 'ARZK74B1187FB45EB3', 'eurovision winner'), ('TRDCOUX128F93042F2', 'Bruxelles', 'Isabelle Aubret Chante Brel', 0, 171.83302, 'ARZK74B1187FB45EB3', 'ARZK74B1187FB45EB3', 'eurovision winner'), ('TROGYFN12903CF1F0A', 'Un jour un jour', 'Aragon', 0, 262.37342, 'ARZK74B1187FB45EB3', 'ARZK74B1187FB45EB3', 'eurovision winner'), ('TROARTF12903CF1179', 'Berceuse', 'Chante Ferrat - Hourra !', 0, 203.2322, 'ARZK74B1187FB45EB3', 'ARZK74B1187FB45EB3', 'eurovision winner'), ('TRXXKUC128F93042F4', 'Voir', 'Isabelle Aubret Chante Brel', 0, 120.65914, 'ARZK74B1187FB45EB3', 'ARZK74B1187FB45EB3', 'eurovision winner'), ('TRKRQWM12903CCC243', 'La complainte de la butte', 'Parisabelle', 0, 180.08771, 'ARZK74B1187FB45EB3', 'ARZK74B1187FB45EB3', 'eurovision winner'), ('TRYHYLB12903CF060C', 'Indio', \"C'est Le Bonheur !\", 0, 224.49587, 'ARZK74B1187FB45EB3', 'ARZK74B1187FB45EB3', 'eurovision winner')]\n"
     ]
    }
   ],
   "source": [
    "cursor.execute('BEGIN TRANSACTION')\n",
    "cursor.execute('''DELETE FROM tracks \n",
    "                  WHERE tracks.track_id \n",
    "                  IN (SELECT tracks.track_id \n",
    "                  FROM tracks JOIN artist_term on artist_term.artist_id = tracks.artist_id \n",
    "                  WHERE artist_term.term =\"eurovision winner\")''')\n",
    "cursor.execute('ROLLBACK')\n",
    "print(cursor.fetchall())\n",
    "\n",
    "# Check if it's rolled back\n",
    "cursor.execute('SELECT * FROM tracks JOIN artist_term on artist_term.artist_id = tracks.artist_id WHERE artist_term.term =\"eurovision winner\"')\n",
    "print(cursor.fetchall())"
   ]
  },
  {
   "cell_type": "markdown",
   "metadata": {},
   "source": [
    "We can see that the transaction prevents us from accidentally deleting records we don't want to delete. So we can roll back to the original stage. We can know this rollback work by running the same query after we rollback to see if there is any difference."
   ]
  }
 ],
 "metadata": {
  "kernelspec": {
   "display_name": "Python 3",
   "language": "python",
   "name": "python3"
  },
  "language_info": {
   "codemirror_mode": {
    "name": "ipython",
    "version": 3
   },
   "file_extension": ".py",
   "mimetype": "text/x-python",
   "name": "python",
   "nbconvert_exporter": "python",
   "pygments_lexer": "ipython3",
   "version": "3.6.5"
  },
  "toc": {
   "base_numbering": 1,
   "nav_menu": {},
   "number_sections": false,
   "sideBar": true,
   "skip_h1_title": false,
   "title_cell": "Table of Contents",
   "title_sidebar": "Contents",
   "toc_cell": false,
   "toc_position": {},
   "toc_section_display": true,
   "toc_window_display": true
  }
 },
 "nbformat": 4,
 "nbformat_minor": 2
}
